{
 "cells": [
  {
   "cell_type": "code",
   "execution_count": 9,
   "metadata": {},
   "outputs": [],
   "source": [
    "from langchain_openai import ChatOpenAI\n",
    "from langchain_core.prompts import ChatPromptTemplate\n",
    "from langchain_core.output_parsers import StrOutputParser\n",
    "from langchain_community.document_loaders.csv_loader import CSVLoader\n",
    "from langchain.chains.combine_documents import create_stuff_documents_chain\n",
    "from dotenv import load_dotenv\n",
    "import pandas as pd"
   ]
  },
  {
   "cell_type": "code",
   "execution_count": 10,
   "metadata": {},
   "outputs": [
    {
     "data": {
      "text/plain": [
       "True"
      ]
     },
     "execution_count": 10,
     "metadata": {},
     "output_type": "execute_result"
    }
   ],
   "source": [
    "#Carrega as variaveis de ambiente\n",
    "load_dotenv()"
   ]
  },
  {
   "cell_type": "code",
   "execution_count": 11,
   "metadata": {},
   "outputs": [],
   "source": [
    "file_path = r'vendas.csv'"
   ]
  },
  {
   "cell_type": "code",
   "execution_count": 12,
   "metadata": {},
   "outputs": [],
   "source": [
    "loader = CSVLoader(file_path,\n",
    "                   csv_args={\n",
    "                       'delimiter': ',',\n",
    "                       'fieldnames': ['mes',\n",
    "                                      'ano',\n",
    "                                      'medicamentos',\n",
    "                                      'qtd_vendas',\n",
    "                                      'trimestre',\n",
    "                                      'semestre',\n",
    "                                      'data']\n",
    "                        }\n",
    "                    )\n",
    "data = loader.load()"
   ]
  },
  {
   "cell_type": "code",
   "execution_count": 13,
   "metadata": {},
   "outputs": [],
   "source": [
    "llm = ChatOpenAI(\n",
    "    model = \"gpt-4o\",\n",
    "    temperature=0.3,\n",
    "    max_tokens=1000,\n",
    "    verbose=True\n",
    ")"
   ]
  },
  {
   "cell_type": "code",
   "execution_count": 14,
   "metadata": {},
   "outputs": [],
   "source": [
    "prompt = ChatPromptTemplate.from_template(\n",
    "    \"\"\"\n",
    "        Você é um assistente para um gerente de uma farmácia de manipulação, chamado FarmaBot, \n",
    "        você será responsável por responder as perguntas do seu gerente \n",
    "        da maneira mais clara e precisa possível.\n",
    "        \n",
    "        O seu trabalho é ler o arquivo csv passado para você e responder as perguntas do seu gerente.\n",
    "        com base nos dados do arquivo csv.\n",
    "        \n",
    "        Context: {context}\n",
    "        \n",
    "        Question: {input}\n",
    "    \"\"\"\n",
    ")"
   ]
  },
  {
   "cell_type": "code",
   "execution_count": 15,
   "metadata": {},
   "outputs": [],
   "source": [
    "chain = create_stuff_documents_chain(\n",
    "    llm = llm,\n",
    "    prompt= prompt,\n",
    "    output_parser= StrOutputParser()\n",
    ")"
   ]
  },
  {
   "cell_type": "code",
   "execution_count": 16,
   "metadata": {},
   "outputs": [
    {
     "data": {
      "text/plain": [
       "'Para determinar o remédio mais vendido no ano de 2022, precisamos somar as quantidades de vendas de cada medicamento ao longo do ano. Aqui estão as vendas totais de cada medicamento em 2022:\\n\\n- **Paracetamol**: 5 + 24 + 28 + 49 + 45 + 30 + 37 = 218\\n- **Ibuprofeno**: 30 + 7 + 14 + 23 + 9 + 36 + 37 = 156\\n- **Amoxicilina**: 13 + 21 + 42 + 3 + 3 + 21 + 50 = 153\\n- **Captopril**: 19 + 40 + 38 + 30 + 44 + 29 + 34 = 234\\n- **Atenolol**: 37 + 17 + 2 + 23 + 4 + 29 + 50 = 162\\n- **Metformina**: 47 + 11 + 21 + 49 + 13 + 41 + 35 = 217\\n- **Simvastatina**: 9 + 35 + 3 + 2 + 40 + 34 + 19 = 142\\n- **Omeprazol**: 49 + 8 + 26 + 27 + 27 + 15 + 31 = 183\\n- **Aspirina**: 31 + 13 + 23 + 30 + 16 + 45 + 39 = 197\\n- **Losartana**: 27 + 17 + 3 + 46 + 31 + 36 + 44 = 204\\n\\nO remédio mais vendido no ano de 2022 foi **Captopril** com um total de 234 unidades vendidas.'"
      ]
     },
     "execution_count": 16,
     "metadata": {},
     "output_type": "execute_result"
    }
   ],
   "source": [
    "response = chain.invoke({\n",
    "    \"input\": \"Qual foi o remédio mais vendido no ano de 2022?\",\n",
    "    \"context\": data  \n",
    "})\n",
    "\n",
    "response"
   ]
  },
  {
   "cell_type": "markdown",
   "metadata": {},
   "source": [
    "## Usando Agent"
   ]
  },
  {
   "cell_type": "code",
   "execution_count": 18,
   "metadata": {},
   "outputs": [],
   "source": [
    "from langchain_experimental.agents.agent_toolkits import create_csv_agent\n",
    "from langchain_openai import ChatOpenAI"
   ]
  },
  {
   "cell_type": "code",
   "execution_count": 19,
   "metadata": {},
   "outputs": [],
   "source": [
    "llm = ChatOpenAI(\n",
    "    model = \"gpt-4o\",\n",
    "    temperature=0.3,\n",
    "    max_tokens=1000,\n",
    "    verbose=True\n",
    ")"
   ]
  },
  {
   "cell_type": "code",
   "execution_count": 21,
   "metadata": {},
   "outputs": [],
   "source": [
    "agent = create_csv_agent(llm, file_path, verbose=True,allow_dangerous_code=True)"
   ]
  },
  {
   "cell_type": "code",
   "execution_count": null,
   "metadata": {},
   "outputs": [],
   "source": [
    "question = \"\"\"\n",
    "        Você é um assistente para um gerente de uma farmácia de manipulação, chamado FarmaBot, \n",
    "        você será responsável por responder as perguntas do seu gerente \n",
    "        da maneira mais clara e precisa possível, sempre respondendo em PT-BR.\n",
    "        \n",
    "        O seu trabalho é ler o arquivo csv passado para você e responder as perguntas do seu gerente.\n",
    "        com base nos dados do arquivo csv.\n",
    "        \n",
    "        Qual foi o remédio mais vendido no ano de 2023?\n",
    "\"\"\""
   ]
  },
  {
   "cell_type": "code",
   "execution_count": null,
   "metadata": {},
   "outputs": [
    {
     "name": "stdout",
     "output_type": "stream",
     "text": [
      "\n",
      "\n",
      "\u001b[1m> Entering new AgentExecutor chain...\u001b[0m\n",
      "\u001b[32;1m\u001b[1;3mThought: To find the most sold medicine in 2023, I need to filter the dataframe for the year 2023 and then find the medicine with the highest sales.\n",
      "Action: python_repl_ast\n",
      "Action Input: df[df['ano'] == 2023].groupby('medicamentos')['qtd_vendas'].sum().idxmax()\u001b[0m\u001b[36;1m\u001b[1;3mAtenolol\u001b[0m\u001b[32;1m\u001b[1;3mEu agora sei a resposta final.\n",
      "\n",
      "Final Answer: Atenolol\u001b[0m\n",
      "\n",
      "\u001b[1m> Finished chain.\u001b[0m\n"
     ]
    },
    {
     "data": {
      "text/plain": [
       "{'input': '\\n        Você é um assistente para um gerente de uma farmácia de manipulação, chamado FarmaBot, \\n        você será responsável por responder as perguntas do seu gerente \\n        da maneira mais clara e precisa possível, sempre respondendo em PT-BR.\\n        \\n        O seu trabalho é ler o arquivo csv passado para você e responder as perguntas do seu gerente.\\n        com base nos dados do arquivo csv.\\n        \\n        Qual foi o remédio mais vendido no ano de 2023?\\n',\n",
       " 'output': 'Atenolol'}"
      ]
     },
     "execution_count": 84,
     "metadata": {},
     "output_type": "execute_result"
    }
   ],
   "source": [
    "agent.invoke(question)"
   ]
  },
  {
   "cell_type": "code",
   "execution_count": null,
   "metadata": {},
   "outputs": [],
   "source": [
    "df = pd.read_csv(file_path)"
   ]
  },
  {
   "cell_type": "code",
   "execution_count": null,
   "metadata": {},
   "outputs": [],
   "source": [
    "region_vins_count = df.groupby(['ano', 'medicamentos'])['qtd_vendas'].sum().reset_index()"
   ]
  },
  {
   "cell_type": "code",
   "execution_count": null,
   "metadata": {},
   "outputs": [
    {
     "data": {
      "text/html": [
       "<div>\n",
       "<style scoped>\n",
       "    .dataframe tbody tr th:only-of-type {\n",
       "        vertical-align: middle;\n",
       "    }\n",
       "\n",
       "    .dataframe tbody tr th {\n",
       "        vertical-align: top;\n",
       "    }\n",
       "\n",
       "    .dataframe thead th {\n",
       "        text-align: right;\n",
       "    }\n",
       "</style>\n",
       "<table border=\"1\" class=\"dataframe\">\n",
       "  <thead>\n",
       "    <tr style=\"text-align: right;\">\n",
       "      <th></th>\n",
       "      <th>ano</th>\n",
       "      <th>medicamentos</th>\n",
       "      <th>qtd_vendas</th>\n",
       "    </tr>\n",
       "  </thead>\n",
       "  <tbody>\n",
       "    <tr>\n",
       "      <th>9</th>\n",
       "      <td>2022</td>\n",
       "      <td>Simvastatina</td>\n",
       "      <td>142</td>\n",
       "    </tr>\n",
       "    <tr>\n",
       "      <th>0</th>\n",
       "      <td>2022</td>\n",
       "      <td>Amoxicilina</td>\n",
       "      <td>153</td>\n",
       "    </tr>\n",
       "    <tr>\n",
       "      <th>4</th>\n",
       "      <td>2022</td>\n",
       "      <td>Ibuprofeno</td>\n",
       "      <td>156</td>\n",
       "    </tr>\n",
       "    <tr>\n",
       "      <th>2</th>\n",
       "      <td>2022</td>\n",
       "      <td>Atenolol</td>\n",
       "      <td>162</td>\n",
       "    </tr>\n",
       "    <tr>\n",
       "      <th>7</th>\n",
       "      <td>2022</td>\n",
       "      <td>Omeprazol</td>\n",
       "      <td>183</td>\n",
       "    </tr>\n",
       "    <tr>\n",
       "      <th>1</th>\n",
       "      <td>2022</td>\n",
       "      <td>Aspirina</td>\n",
       "      <td>197</td>\n",
       "    </tr>\n",
       "    <tr>\n",
       "      <th>5</th>\n",
       "      <td>2022</td>\n",
       "      <td>Losartana</td>\n",
       "      <td>204</td>\n",
       "    </tr>\n",
       "    <tr>\n",
       "      <th>6</th>\n",
       "      <td>2022</td>\n",
       "      <td>Metformina</td>\n",
       "      <td>217</td>\n",
       "    </tr>\n",
       "    <tr>\n",
       "      <th>8</th>\n",
       "      <td>2022</td>\n",
       "      <td>Paracetamol</td>\n",
       "      <td>218</td>\n",
       "    </tr>\n",
       "    <tr>\n",
       "      <th>3</th>\n",
       "      <td>2022</td>\n",
       "      <td>Captopril</td>\n",
       "      <td>234</td>\n",
       "    </tr>\n",
       "  </tbody>\n",
       "</table>\n",
       "</div>"
      ],
      "text/plain": [
       "    ano  medicamentos  qtd_vendas\n",
       "9  2022  Simvastatina         142\n",
       "0  2022   Amoxicilina         153\n",
       "4  2022    Ibuprofeno         156\n",
       "2  2022      Atenolol         162\n",
       "7  2022     Omeprazol         183\n",
       "1  2022      Aspirina         197\n",
       "5  2022     Losartana         204\n",
       "6  2022    Metformina         217\n",
       "8  2022   Paracetamol         218\n",
       "3  2022     Captopril         234"
      ]
     },
     "execution_count": 93,
     "metadata": {},
     "output_type": "execute_result"
    }
   ],
   "source": [
    "region_vins_count[region_vins_count['ano']==2022].sort_values(by=['qtd_vendas'])"
   ]
  },
  {
   "cell_type": "code",
   "execution_count": null,
   "metadata": {},
   "outputs": [],
   "source": []
  }
 ],
 "metadata": {
  "kernelspec": {
   "display_name": "venv",
   "language": "python",
   "name": "python3"
  },
  "language_info": {
   "codemirror_mode": {
    "name": "ipython",
    "version": 3
   },
   "file_extension": ".py",
   "mimetype": "text/x-python",
   "name": "python",
   "nbconvert_exporter": "python",
   "pygments_lexer": "ipython3",
   "version": "3.11.7"
  }
 },
 "nbformat": 4,
 "nbformat_minor": 2
}
